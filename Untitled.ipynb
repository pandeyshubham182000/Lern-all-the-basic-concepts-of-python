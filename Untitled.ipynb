{
 "cells": [
  {
   "cell_type": "code",
   "execution_count": 1,
   "metadata": {},
   "outputs": [],
   "source": [
    "#                                       PYTHON \n",
    "\n",
    "#   Python tutorials by Shubham Pandey\n",
    "#   In this tut we are going to see all the programming using python\n",
    "#   LOGIC BUILDING"
   ]
  },
  {
   "cell_type": "code",
   "execution_count": 4,
   "metadata": {},
   "outputs": [
    {
     "name": "stdout",
     "output_type": "stream",
     "text": [
      "shubham pandey\n",
      "\n",
      "Hey calling from py shubham pandey\n"
     ]
    }
   ],
   "source": [
    "# how to print statement in python\n",
    "print(\"shubham pandey\\n\")\n",
    "\n",
    "# SUGGESTED => use like a pro always write \"f\" in your print function it allow you to print anything\n",
    "name=\"shubham pandey\"\n",
    "print(f\"Hey calling from py {name}\")"
   ]
  },
  {
   "cell_type": "code",
   "execution_count": 5,
   "metadata": {},
   "outputs": [
    {
     "name": "stdout",
     "output_type": "stream",
     "text": [
      "integer => 12 float => 12.45 string => shubham double => 12.345444656577433\n"
     ]
    }
   ],
   "source": [
    "# python data types\n",
    "# no tension of data type in python \n",
    "# but if you have take float value as input use \"eval\" datatype in input fun see it later\n",
    "a=12\n",
    "b=12.45\n",
    "c=\"shubham\"\n",
    "d=12.3454446565774332442\n",
    "\n",
    "print(f\"integer => {a} float => {b} string => {c} double => {d}\")"
   ]
  },
  {
   "cell_type": "code",
   "execution_count": 7,
   "metadata": {},
   "outputs": [
    {
     "name": "stdout",
     "output_type": "stream",
     "text": [
      "Enter the name shubham\n",
      "Enter the number 23\n",
      "Enter any number23.54563467657\n",
      "name => shubham number => 23 floater => 23.54563467657 \n"
     ]
    }
   ],
   "source": [
    "# how to take input in python\n",
    "name=input(\"Enter the name \")        # by default it take string as input\n",
    "number=int(input(\"Enter the number \"))  # accepts integer value only\n",
    "floater= eval(input(\"Enter any number\")) # accept any number            SUGGESTED\n",
    "print(F\"name => {name} number => {number} floater => {floater} \")"
   ]
  },
  {
   "cell_type": "code",
   "execution_count": 10,
   "metadata": {},
   "outputs": [
    {
     "name": "stdout",
     "output_type": "stream",
     "text": [
      "Enter the radius 23.434\n",
      "The area of circle whose radius is 23.434 = 1724.3383978400002\n"
     ]
    }
   ],
   "source": [
    "# simple programme\n",
    "# calculate the area of circle\n",
    "pi=3.14\n",
    "radius=eval(input(\"Enter the radius \"))\n",
    "print(f\"The area of circle whose radius is {radius} = {pi*radius*radius}\")"
   ]
  },
  {
   "cell_type": "code",
   "execution_count": 13,
   "metadata": {},
   "outputs": [
    {
     "name": "stdout",
     "output_type": "stream",
     "text": [
      "Enter the number 2.3434455\n",
      "Square => 5.4917368114702505\n",
      "cube => 12.869585918024306\n"
     ]
    }
   ],
   "source": [
    "# Find the square and cubes of a number\n",
    "number=eval(input(\"Enter the number \"))\n",
    "print(f\"Square => {number**2}\")\n",
    "print(f\"cube => {number**3}\")"
   ]
  },
  {
   "cell_type": "code",
   "execution_count": 17,
   "metadata": {},
   "outputs": [
    {
     "name": "stdout",
     "output_type": "stream",
     "text": [
      "Before swapping Num1 => 23 and  Num2 => 43\n",
      "After swaping using third var Num1 => 43 and  Num2 => 23\n",
      "\n",
      "After swaping using two var only Num1 => 43 and  Num2 => 20\n"
     ]
    }
   ],
   "source": [
    "# Swap the give numbers\n",
    "\n",
    "# using third number\n",
    "num1=23\n",
    "num2=43\n",
    "temp=0\n",
    "print(f\"Before swapping Num1 => {num1} and  Num2 => {num2}\")\n",
    "temp=num1\n",
    "num1=num2\n",
    "num2=temp\n",
    "print(f\"After swaping using third var Num1 => {num1} and  Num2 => {num2}\\n\")\n",
    "\n",
    "# without using third var\n",
    "num1=num1+num2\n",
    "num1=num1-num2\n",
    "num2=num1-num2\n",
    "print(f\"After swaping using two var only Num1 => {num1} and  Num2 => {num2}\")"
   ]
  },
  {
   "cell_type": "code",
   "execution_count": 18,
   "metadata": {},
   "outputs": [],
   "source": [
    "# conditionals statements \n",
    "# use of if elif else"
   ]
  },
  {
   "cell_type": "code",
   "execution_count": 24,
   "metadata": {},
   "outputs": [
    {
     "name": "stdout",
     "output_type": "stream",
     "text": [
      "Enter the number 23.45\n",
      "Enter the number 65\n",
      "GREATER is => 65 not 23.45 \n",
      "\n",
      "Greater number is 65\n"
     ]
    }
   ],
   "source": [
    "# find greatest of two numbers\n",
    "\n",
    "#tradtional\n",
    "num1=eval(input(\"Enter the number \"))\n",
    "num2=eval(input(\"Enter the number \"))\n",
    "if num1>num2:\n",
    "    print(f\"GREATER is => {num1} not {num2}\")\n",
    "else:\n",
    "    print(f\"GREATER is => {num2} not {num1} \\n\")\n",
    "\n",
    "\n",
    "# py coders \n",
    "print(f\"Greater number is {max(num1,num2)}\")"
   ]
  },
  {
   "cell_type": "code",
   "execution_count": 25,
   "metadata": {},
   "outputs": [
    {
     "name": "stdout",
     "output_type": "stream",
     "text": [
      "Enter the number 23.4\n",
      "positive\n"
     ]
    }
   ],
   "source": [
    "# positive or negative number\n",
    "num=eval(input(\"Enter the number \"))\n",
    "if num>=0:\n",
    "    print(\"positive\")\n",
    "else:\n",
    "    print(\"negative\")"
   ]
  },
  {
   "cell_type": "code",
   "execution_count": 27,
   "metadata": {},
   "outputs": [
    {
     "name": "stdout",
     "output_type": "stream",
     "text": [
      "Enter the number 23\n",
      "odd\n"
     ]
    }
   ],
   "source": [
    "# even or odd\n",
    "num=eval(input(\"Enter the number \"))\n",
    "if num%2==0:\n",
    "    print(\"Even\")\n",
    "else:\n",
    "    print(\"odd\")"
   ]
  },
  {
   "cell_type": "code",
   "execution_count": 52,
   "metadata": {},
   "outputs": [
    {
     "name": "stdout",
     "output_type": "stream",
     "text": [
      "Enter the numbers 455,1,1024\n",
      "Ascending order => 1 1024 455\n",
      "\n",
      "\n",
      "ASCENDING => 1 1024 455\n",
      "DESCENDING =>  455 1024 1\n"
     ]
    }
   ],
   "source": [
    "# arrange three number in ascending or descending order\n",
    "num1,num2,num3=input(\"Enter the numbers \").split(\",\")\n",
    "if num1>num2 and num1>num3:\n",
    "    if num2>num3:\n",
    "        print(f\"Ascending order => {num3} {num2} {num1}\")\n",
    "    else:\n",
    "        print(f\"Ascending order => {num2} {num3} {num1}\")\n",
    "elif num2>num3 and num2>num1:\n",
    "    if num1>num3:\n",
    "        print(f\"Ascending order => {num3} {num1} {num2}\")\n",
    "    else:\n",
    "        print(f\"Ascending order => {num1} {num3} {num2}\")\n",
    "else:\n",
    "    if num1>num2:\n",
    "        print(f\"Ascending order => {num2} {num1} {num3}\")\n",
    "    else:\n",
    "        print(f\"Ascending order => {num1} {num2} {num3}\")\n",
    "\n",
    "print(\"\\n\")\n",
    "\n",
    "\n",
    "# pycoders\n",
    "numbers=[num1,num2,num3]\n",
    "numbers.sort()\n",
    "print(\"ASCENDING =>\",*numbers)# to pritn the values only use * operator\n",
    "numbers.sort(reverse=True)\n",
    "print(\"DESCENDING => \",*numbers)         # if reverse in sort function is true it do opposite"
   ]
  },
  {
   "cell_type": "code",
   "execution_count": 57,
   "metadata": {},
   "outputs": [
    {
     "name": "stdout",
     "output_type": "stream",
     "text": [
      "Enter the year 4000\n",
      "leap year\n"
     ]
    }
   ],
   "source": [
    "# find leap years or not\n",
    "# LOGIC => year%4==0 leap     but   if century year(3000,4000,2000...)   then year%400==0 leap\n",
    "year=int(input(\"Enter the year \"))\n",
    "if year%100==0:\n",
    "    if year%400==0:\n",
    "        print(\"leap year\")\n",
    "    else:\n",
    "        print(\"Normal year\")\n",
    "elif year%4==0:\n",
    "    print(\"Leap year\")\n",
    "else:\n",
    "    print(\"Normal year\")\n",
    "\n"
   ]
  },
  {
   "cell_type": "code",
   "execution_count": 2,
   "metadata": {},
   "outputs": [
    {
     "name": "stdout",
     "output_type": "stream",
     "text": [
      "Enter the marks f maths, physics, chemistry 23,45,67\n",
      "grade C\n",
      "Enter marks 23,45,67\n",
      "C\n"
     ]
    }
   ],
   "source": [
    "# find the avg and decide categorey   70above => A. 60-70 =>B. 50-60 => c below50 =>fail\n",
    "maths,physics,chem=input(\"Enter the marks f maths, physics, chemistry \").split(\",\")\n",
    "avg=(eval(maths)+eval(physics)+eval(chem))/3\n",
    "if avg>=60:\n",
    "    print(\"Grade A\")\n",
    "elif avg>=50 and avg<60:\n",
    "    print(\"grade B\")\n",
    "elif avg>=40 and avg<50:\n",
    "    print(\"grade C\")\n",
    "else:\n",
    "    print(\"Fail\")\n",
    "\n",
    "    \n",
    "    \n",
    "# py coders\n",
    "# can also use   map(eval,input.split)    # return a list\n",
    "math,phy,chem=[eval(x) for x in input(\"Enter marks \").split(\",\")]      #how to take input in one line and typecast it\n",
    "avg=(math+phy+chem)/3\n",
    "if avg>60:\n",
    "    print(\"A\")\n",
    "elif avg in range(50,60):\n",
    "    print(\"B\")\n",
    "elif avg in range(40,50):\n",
    "    print(\"C\")\n",
    "else:\n",
    "    print(\"fail\")"
   ]
  },
  {
   "cell_type": "code",
   "execution_count": 9,
   "metadata": {},
   "outputs": [
    {
     "name": "stdout",
     "output_type": "stream",
     "text": [
      "Enter till to print 6\n",
      "1 2 3 4 5 6 \n",
      "\n",
      "1 2 3 4 5 6\n",
      "6 5 4 3 2 1\n"
     ]
    }
   ],
   "source": [
    "# print till desired number and also in reverse order\n",
    "\n",
    "# traditional\n",
    "num=int(input(\"Enter till to print \"))\n",
    "for count in range(1,num+1):\n",
    "    print(count,end=\" \")\n",
    "\n",
    "    \n",
    "#py coders\n",
    "print(\"\\n\")\n",
    "numbers=list(range(1,num+1,1))\n",
    "print(*numbers)\n",
    "print(*numbers[::-1])            # tp reverse in py use this"
   ]
  },
  {
   "cell_type": "code",
   "execution_count": 17,
   "metadata": {},
   "outputs": [
    {
     "name": "stdout",
     "output_type": "stream",
     "text": [
      "ENter till to print 40\n",
      "2 4 6 8 10 12 14 16 18 20 22 24 26 28 30 32 34 36 38 40 \n",
      "\n",
      "EVEN =>  2 4 6 8 10 12 14 16 18 20 22 24 26 28 30 32 34 36 38 40\n",
      "ODD =>  1 3 5 7 9 11 13 15 17 19 21 23 25 27 29 31 33 35 37 39\n"
     ]
    }
   ],
   "source": [
    "# first n even number\n",
    "\n",
    "# traditional\n",
    "num=int(input(\"ENter till to print \"))\n",
    "for counter in range(1,num+1):\n",
    "    if counter%2==0:\n",
    "        print(counter,end=\" \")\n",
    "        \n",
    "        \n",
    "# py coder\n",
    "print(\"\\n\")\n",
    "numbers=list(range(2,num+1,2))\n",
    "print(\"EVEN => \",*numbers)\n",
    "\n",
    "numbers=list(range(1,num+1,2))\n",
    "print(\"ODD => \",*numbers)"
   ]
  },
  {
   "cell_type": "code",
   "execution_count": 20,
   "metadata": {},
   "outputs": [
    {
     "name": "stdout",
     "output_type": "stream",
     "text": [
      "ENTER NUMBER1234\n",
      "4321\n"
     ]
    }
   ],
   "source": [
    "# reverse the number\n",
    "\n",
    "#py coders\n",
    "num= input(\"ENTER NUMBER\")\n",
    "print(num[::-1])"
   ]
  },
  {
   "cell_type": "code",
   "execution_count": 27,
   "metadata": {},
   "outputs": [
    {
     "name": "stdout",
     "output_type": "stream",
     "text": [
      "ENTER A NUMBER 5677\n",
      "25\n"
     ]
    }
   ],
   "source": [
    "#sum of digits of a number\n",
    "num=input(\"ENTER A NUMBER \")\n",
    "sm=0\n",
    "for char in num:\n",
    "    if char==\".\":\n",
    "        continue\n",
    "    else:\n",
    "        sm=sm+int(char)\n",
    "print(sm)"
   ]
  },
  {
   "cell_type": "code",
   "execution_count": 3,
   "metadata": {},
   "outputs": [
    {
     "name": "stdout",
     "output_type": "stream",
     "text": [
      "Enter the number 153\n",
      "153\n",
      "arm number\n"
     ]
    }
   ],
   "source": [
    "# Armstrong or not\n",
    "# 153 = 1^3 + 5^3 + 3^3 = 153\n",
    "num=input(\"Enter the number \")\n",
    "su=0\n",
    "for char in num:\n",
    "    su=su+int(char)**3\n",
    "print(su)\n",
    "if su==int(num):\n",
    "    print(\"arm number\")\n",
    "else:\n",
    "    print(\"normal number\")"
   ]
  },
  {
   "cell_type": "code",
   "execution_count": 7,
   "metadata": {},
   "outputs": [
    {
     "name": "stdout",
     "output_type": "stream",
     "text": [
      "Enter the number whose table you need 12.5\n",
      "12.5 x 1 = 12.5\n",
      "12.5 x 2 = 25.0\n",
      "12.5 x 3 = 37.5\n",
      "12.5 x 4 = 50.0\n",
      "12.5 x 5 = 62.5\n",
      "12.5 x 6 = 75.0\n",
      "12.5 x 7 = 87.5\n",
      "12.5 x 8 = 100.0\n",
      "12.5 x 9 = 112.5\n",
      "12.5 x 10 = 125.0\n"
     ]
    }
   ],
   "source": [
    "# table of a given numbber but 12x1=12 form\n",
    "num=eval(input(\"Enter the number whose table you need \"))\n",
    "for counter in range(1,11,1):\n",
    "    print(f\"{num} x {counter} = {num*counter}\")"
   ]
  },
  {
   "cell_type": "code",
   "execution_count": 13,
   "metadata": {},
   "outputs": [
    {
     "name": "stdout",
     "output_type": "stream",
     "text": [
      "Enter the number whose factorial to print 6\n",
      "720\n"
     ]
    }
   ],
   "source": [
    "# find the numbers factorial\n",
    "# 5! =5 x 4 x 3 x 2 x 1\n",
    "num=int(input(\"Enter the number whose factorial to print \"))\n",
    "fact=1\n",
    "for counter in range(num,1,-1):\n",
    "    fact=fact*counter\n",
    "print(fact)"
   ]
  },
  {
   "cell_type": "code",
   "execution_count": 18,
   "metadata": {},
   "outputs": [
    {
     "name": "stdout",
     "output_type": "stream",
     "text": [
      "enter number of element you want in fibonacci 10\n",
      "0 1 1 2 3 5 8 13 21 34 "
     ]
    }
   ],
   "source": [
    "# fibonacci series\n",
    "# 0,1,1,2,3,5,8,13........\n",
    "num=int(input(\"enter number of element you want in fibonacci \"))\n",
    "prev=0\n",
    "cur=1\n",
    "print(f\"{prev} {cur}\",end=\" \")\n",
    "for counter in range(1,num-1):\n",
    "    fib=prev+cur\n",
    "    print(fib,end=\" \")\n",
    "    prev=cur\n",
    "    cur=fib\n",
    "    "
   ]
  },
  {
   "cell_type": "code",
   "execution_count": null,
   "metadata": {},
   "outputs": [],
   "source": []
  }
 ],
 "metadata": {
  "kernelspec": {
   "display_name": "Python 3",
   "language": "python",
   "name": "python3"
  },
  "language_info": {
   "codemirror_mode": {
    "name": "ipython",
    "version": 3
   },
   "file_extension": ".py",
   "mimetype": "text/x-python",
   "name": "python",
   "nbconvert_exporter": "python",
   "pygments_lexer": "ipython3",
   "version": "3.8.3"
  }
 },
 "nbformat": 4,
 "nbformat_minor": 4
}
